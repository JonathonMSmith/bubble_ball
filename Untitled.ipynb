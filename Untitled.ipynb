{
 "cells": [
  {
   "cell_type": "code",
   "execution_count": 1,
   "metadata": {},
   "outputs": [],
   "source": [
    "import pysat\n",
    "import numpy as np\n",
    "from scipy.spatial import Delaunay\n",
    "from scipy.signal import medfilt\n",
    "import matplotlib.pyplot as plt\n",
    "\n",
    "clean_level='none'"
   ]
  },
  {
   "cell_type": "code",
   "execution_count": 2,
   "metadata": {},
   "outputs": [],
   "source": [
    "def get_scale_factor(x, y):\n",
    "    '''returns scaling factor for ion density in delaunay triangulation\n",
    "    the ion density must be scaled so that the delaunay triangulation produces \n",
    "    meaningful geometry for the detection of bubbles and background density.\n",
    "\n",
    "    More specifically: If the delta X (or time) between two distant \n",
    "    points is smaller than the delta Y for two points closer together, \n",
    "    a tringle edge will be placed between the two points closer together. This \n",
    "    creates a triangle that goes 'through' the ion density curve, corrupting \n",
    "    the alpha shape desired for the detection of bubbles. \n",
    "\n",
    "    So we make the largest delta y the same as the smallest delta x\n",
    "\n",
    "    parameters:\n",
    "    x : array-like, typically solar or magnetic local time\n",
    "    y : array-like, ion density\n",
    "    '''\n",
    "    xdiff = np.diff(x)\n",
    "    ydiff = np.diff(y)\n",
    "    \n",
    "    xdiff = np.sort(xdiff)\n",
    "    minxdiff = next((x for x in xdiff if x != 0), None)\n",
    "    maxydiff = np.max(np.abs(ydiff))\n",
    "\n",
    "    return minxdiff / maxydiff\n",
    "\n",
    "def sq_norm(v): #squared norm \n",
    "    return np.linalg.norm(v)**2\n",
    "\n",
    "def circumcircle(points, simplex, top=False, bottom=False):\n",
    "    A = [points[simplex[k]] for k in range(3)]\n",
    "    M=[[1.0]*4]\n",
    "    M+=[[sq_norm(A[k]), A[k][0], A[k][1], 1.0 ] for k in range(3)]\n",
    "    M=np.asarray(M, dtype=np.float32)\n",
    "    S=np.array([0.5*np.linalg.det(M[1:,[0,2,3]]), -0.5*np.linalg.det(M[1:,[0,1,3]])])\n",
    "    a=np.linalg.det(M[1:, 1:])\n",
    "    b=np.linalg.det(M[1:, [0,1,2]])\n",
    "    return S/a,  np.sqrt(b/a+sq_norm(S)/a**2) #center=S/a, radius=np.sqrt(b/a+sq_norm(S)/a**2)\n",
    "\n",
    "def get_alpha_complex(alpha, points, simplexes):\n",
    "    '''gets the alpha shape of triangulation\n",
    "    parameters:\n",
    "    alpha: alpha factor\n",
    "    simplices: simplices from triangulation\n",
    "    '''\n",
    "    return filter(lambda simplex: circumcircle(points, simplex)[1]<alpha, simplexes)\n",
    "\n",
    "def plot_delaunay(points, tri):\n",
    "    plt.triplot(points[:,0], points[:,1], tri.simplices.copy())\n",
    "    plt.plot(points[:,0], points[:,1])\n",
    "    plt.show()\n",
    "\n",
    "def Plotly_data(points, complex_s):\n",
    "    #points are the given data points, \n",
    "    #complex_s is the list of indices in the array of points defining 2-simplexes(triangles) \n",
    "    #in the simplicial complex to be plotted\n",
    "    X=[]\n",
    "    Y=[]\n",
    "    for s in complex_s:\n",
    "        X+=[points[s[k]][0] for k in [0,1,2,0]]+[None]\n",
    "        Y+=[points[s[k]][1] for k in [0,1,2,0]]+[None]\n",
    "    return X,Y"
   ]
  },
  {
   "cell_type": "code",
   "execution_count": 6,
   "metadata": {},
   "outputs": [
    {
     "name": "stdout",
     "output_type": "stream",
     "text": [
      "Returning cnofs ivm data for 07/08/09\n",
      "Loaded Orbit:8\n"
     ]
    }
   ],
   "source": [
    "info = {'index':'slt', 'kind':'local time'}\n",
    "ivm = pysat.Instrument(platform='cnofs', name='ivm', orbit_info=info, clean_level=clean_level)\n",
    "start = pysat.datetime(2009,7,8)\n",
    "stop = pysat.datetime(2009,7,9)\n",
    "ivm.bounds = (start, stop)\n",
    "ivm.load(date=start)\n",
    "ivm.orbits[8]\n",
    "ivm.data = ivm.data.resample('1S', label='left').ffill(limit=7)"
   ]
  },
  {
   "cell_type": "code",
   "execution_count": 7,
   "metadata": {},
   "outputs": [],
   "source": [
    "slt = ivm['slt']\n",
    "n_i = medfilt([np.log10(x) for x in ivm['ionDensity']], 7)\n",
    "points = zip(slt, n_i)\n",
    "points = np.array([x for x in points if not np.isnan(x).any()])\n",
    "scale_factor = get_scale_factor(points[:, 0], points[:, 1])\n",
    "points[:,0] /= np.sqrt(scale_factor)\n",
    "points[:,1] *= np.sqrt(scale_factor)"
   ]
  },
  {
   "cell_type": "code",
   "execution_count": 48,
   "metadata": {},
   "outputs": [],
   "source": [
    "tri = Delaunay(points)\n",
    "alpha_complex = get_alpha_complex(0.15, points, tri.simplices)"
   ]
  },
  {
   "cell_type": "code",
   "execution_count": 49,
   "metadata": {},
   "outputs": [],
   "source": [
    "alpha_arr = np.stack(alpha_complex)"
   ]
  },
  {
   "cell_type": "code",
   "execution_count": 50,
   "metadata": {},
   "outputs": [
    {
     "data": {
      "text/plain": [
       "array([[5816, 5815, 5817],\n",
       "       [5819, 5818, 5817],\n",
       "       [5788, 5790, 5789],\n",
       "       [5810, 5811, 5809],\n",
       "       [5819, 5821, 5820],\n",
       "       [5733, 5732, 5731],\n",
       "       [5004, 5006, 5005],\n",
       "       [ 636,  638,  637],\n",
       "       [3597, 3592, 3595],\n",
       "       [5503, 5502, 5501],\n",
       "       [5621, 5620, 5622],\n",
       "       [ 659,  657,  658],\n",
       "       [ 740,  739,  741],\n",
       "       [ 647,  646,  645],\n",
       "       [ 648,  646,  647],\n",
       "       [ 657,  656,  658],\n",
       "       [3592, 3591, 3595],\n",
       "       [4511, 4510, 4509],\n",
       "       [5579, 5580, 5582],\n",
       "       [5588, 5590, 5589],\n",
       "       [ 579,  578,  580],\n",
       "       [ 738,  739,  737],\n",
       "       [ 736,  738,  737],\n",
       "       [ 752,  750,  751],\n",
       "       [ 684,  686,  685],\n",
       "       [5504, 5505, 5502],\n",
       "       [5157, 5159, 5158],\n",
       "       [5602, 5605, 5604],\n",
       "       [ 347,  349,  348],\n",
       "       [ 581,  582,  580],\n",
       "       [ 559,  560,  558],\n",
       "       [ 557,  559,  558],\n",
       "       [ 835,  834,  833],\n",
       "       [ 707,  705,  706],\n",
       "       [ 720,  718,  719],\n",
       "       [5605, 5608, 5606],\n",
       "       [5617, 5619, 5618],\n",
       "       [ 351,  349,  350],\n",
       "       [ 444,  442,  443],\n",
       "       [ 512,  510,  511],\n",
       "       [ 334,  336,  335],\n",
       "       [ 336,  337,  335],\n",
       "       [ 355,  356,  357],\n",
       "       [ 356,  358,  357],\n",
       "       [ 360,  358,  359],\n",
       "       [ 717,  715,  716],\n",
       "       [ 715,  714,  716],\n",
       "       [ 742,  740,  741],\n",
       "       [ 681,  680,  682],\n",
       "       [5609, 5613, 5614],\n",
       "       [ 440,  438,  439],\n",
       "       [ 438,  437,  439],\n",
       "       [ 435,  437,  436],\n",
       "       [ 360,  362,  361],\n",
       "       [ 362,  360,  359],\n",
       "       [ 865,  863,  864],\n",
       "       [ 721,  720,  719],\n",
       "       [ 683,  684,  685],\n",
       "       [2591, 2589, 2590],\n",
       "       [3323, 3325, 3324],\n",
       "       [4076, 4075, 4074],\n",
       "       [4893, 4891, 4894],\n",
       "       [4368, 4370, 4369],\n",
       "       [ 793,  792,  791],\n",
       "       [ 866,  865,  864],\n",
       "       [5493, 5492, 5489],\n",
       "       [4374, 4373, 4372],\n",
       "       [ 447,  449,  448]], dtype=int32)"
      ]
     },
     "execution_count": 50,
     "metadata": {},
     "output_type": "execute_result"
    }
   ],
   "source": [
    "alpha_arr"
   ]
  },
  {
   "cell_type": "code",
   "execution_count": 51,
   "metadata": {},
   "outputs": [
    {
     "data": {
      "text/plain": [
       "[<matplotlib.lines.Line2D at 0x7f116351c6a0>,\n",
       " <matplotlib.lines.Line2D at 0x7f116351c7f0>]"
      ]
     },
     "execution_count": 51,
     "metadata": {},
     "output_type": "execute_result"
    },
    {
     "data": {
      "image/png": "[encoded data removed]",
      "text/plain": [
       "<Figure size 432x288 with 1 Axes>"
      ]
     },
     "metadata": {},
     "output_type": "display_data"
    }
   ],
   "source": [
    "plt.triplot(points[:,0], points[:,1], alpha_arr)"
   ]
  },
  {
   "cell_type": "code",
   "execution_count": 63,
   "metadata": {},
   "outputs": [
    {
     "data": {
      "text/plain": [
       "array(8.12106559)"
      ]
     },
     "execution_count": 63,
     "metadata": {},
     "output_type": "execute_result"
    }
   ],
   "source": [
    "simplex = tri.simplices[0]\n",
    "A = points[simplex[0]]\n",
    "B = points[simplex[1]]\n",
    "C = points[simplex[2]]\n",
    "AB = B - A\n",
    "AC = C - A\n",
    "np.cross(AB, AC)"
   ]
  },
  {
   "cell_type": "code",
   "execution_count": null,
   "metadata": {},
   "outputs": [],
   "source": []
  }
 ],
 "metadata": {
  "kernelspec": {
   "display_name": "Python 3",
   "language": "python",
   "name": "python3"
  },
  "language_info": {
   "codemirror_mode": {
    "name": "ipython",
    "version": 3
   },
   "file_extension": ".py",
   "mimetype": "text/x-python",
   "name": "python",
   "nbconvert_exporter": "python",
   "pygments_lexer": "ipython3",
   "version": "3.6.6"
  }
 },
 "nbformat": 4,
 "nbformat_minor": 2
}
